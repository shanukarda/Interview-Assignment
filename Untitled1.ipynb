{
 "cells": [
  {
   "cell_type": "code",
   "execution_count": null,
   "metadata": {},
   "outputs": [],
   "source": [
    "'''\n",
    "For this program we can use re module which has robust functions to work on regular expressions.\n",
    "--First we will start a while loop with condition that if user want to enter password for multiple times in case of Invalid\n",
    "password. \n",
    "--Then we will start with second loop to check all password conditions. We will use 'search' function of 're' in if-elif \n",
    "conditions to search all required conditions. At the end, in else condition, we will set 'False' of both loops so that\n",
    "program will stop if password is valid.\n",
    "\n",
    "--At last after any if condition is false then it will break the second loop control will come to if condition in first\n",
    "loop. Here we will print \"Invalid Password\" and ask to user if he want to try again or exit.\n",
    "\n",
    "'''\n",
    "# import re (regular expression) library to check password conditions.\n",
    "import re\n",
    "c1 = True # 'c1' for first while loop condition\n",
    "while c1:\n",
    "    password= input(\"Input your password: \")\n",
    "    c2 = True # 'c2' for second while loop condition\n",
    "    while c2:  \n",
    "        if (len(password)<6 or len(password)>12):  # check length of password\n",
    "            break\n",
    "        elif not re.search(\"[a-z]\",password):   # check at least 1 letter between [a-z], if not then break the loop\n",
    "            break\n",
    "        elif not re.search(\"[0-9]\",password):   # check at least 1 letter between [0-9], if not then break the loop\n",
    "            break\n",
    "        elif not re.search(\"[A-Z]\",password):   # check at least 1 letter between [A-Z], if not then break the loop\n",
    "            break\n",
    "        elif not re.search(\"[$#@]\",password):   # check at least 1 letter between [$#@], if not then break the loop\n",
    "            break\n",
    "        elif re.search(\"\\s\",password):  # check password should not contain space\n",
    "            break\n",
    "        else:\n",
    "            print(\"Valid Password\") # if all above condition false then it's a valid password.\n",
    "            c2 = False # to set false for 'if' condition in next block\n",
    "            c1 = False # to stop the second loop\n",
    "\n",
    "    if c2:\n",
    "        print(\"Not a Valid Password\")\n",
    "        a = input(\"Enter 'y' to continue or any other key to exit: \")\n",
    "        if a.lower() == \"y\":\n",
    "            c1 = True\n",
    "        else:\n",
    "            c1 = False\n"
   ]
  }
 ],
 "metadata": {
  "kernelspec": {
   "display_name": "Python 3",
   "language": "python",
   "name": "python3"
  },
  "language_info": {
   "codemirror_mode": {
    "name": "ipython",
    "version": 3
   },
   "file_extension": ".py",
   "mimetype": "text/x-python",
   "name": "python",
   "nbconvert_exporter": "python",
   "pygments_lexer": "ipython3",
   "version": "3.7.3"
  }
 },
 "nbformat": 4,
 "nbformat_minor": 2
}
